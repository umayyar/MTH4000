{
 "cells": [
  {
   "cell_type": "code",
   "execution_count": null,
   "id": "74008936",
   "metadata": {
    "vscode": {
     "languageId": "plaintext"
    }
   },
   "outputs": [],
   "source": [
    "\n",
    "from PIL import Image\n",
    "from IPython.display import display\n",
    "print(\"Mandelbrot set generated via\",__vsc_ipynb_file__)\n",
    "img=Image.effect_mandelbrot((512, 512),(-2.25, -1.5, 0.75, 1.5),100)\n",
    "display(img)"
   ]
  }
 ],
 "metadata": {
  "language_info": {
   "name": "python"
  }
 },
 "nbformat": 4,
 "nbformat_minor": 5
}
